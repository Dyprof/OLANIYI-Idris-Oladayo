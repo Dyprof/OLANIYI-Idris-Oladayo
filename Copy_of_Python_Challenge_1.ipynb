{
  "nbformat": 4,
  "nbformat_minor": 0,
  "metadata": {
    "colab": {
      "provenance": [],
      "collapsed_sections": [
        "vSSW4Bpjj9So"
      ],
      "include_colab_link": true
    },
    "kernelspec": {
      "name": "python3",
      "display_name": "Python 3"
    },
    "language_info": {
      "name": "python"
    }
  },
  "cells": [
    {
      "cell_type": "markdown",
      "metadata": {
        "id": "view-in-github",
        "colab_type": "text"
      },
      "source": [
        "<a href=\"https://colab.research.google.com/github/Dyprof/OLANIYI-Idris-Oladayo/blob/main/Copy_of_Python_Challenge_1.ipynb\" target=\"_parent\"><img src=\"https://colab.research.google.com/assets/colab-badge.svg\" alt=\"Open In Colab\"/></a>"
      ]
    },
    {
      "cell_type": "markdown",
      "source": [
        "![Dreams](https://cdn.pixabay.com/photo/2020/09/09/04/46/dream-big-work-hard-5556539_960_720.jpg)"
      ],
      "metadata": {
        "id": "D2fS0o1XnSWw"
      }
    },
    {
      "cell_type": "markdown",
      "source": [
        "### PREPARATION\n",
        "Go through the slide to revise what we did in class.\n",
        "\n",
        "### EXTRA RESOURCES\n",
        "The following links will direct you to W3Schools, where you can further expand your knowledge beyond the slides. This resource is intended to complement, rather than replace, the content covered in the slides.\n",
        "\n",
        "* For string, click [HERE](https://www.w3schools.com/python/python_strings.asp)\n",
        "\n",
        "* For list, click [HERE](https://www.w3schools.com/python/python_lists.asp)\n",
        "\n",
        "* For tuple, click [HERE](https://www.w3schools.com/python/python_tuples.asp)\n",
        "\n",
        "* For set, click [HERE](https://www.w3schools.com/python/python_sets.asp)\n",
        "\n",
        "* For dictionary, click [HERE](https://www.w3schools.com/python/python_dictionaries.asp)\n",
        "\n",
        "**NOTE:** You can always reference the links above for easier to navigate reading tutorial.\n",
        "\n",
        "**PS:** the essence of this assignment is to practice what you have learnt and also do personal research. Ensure you attempt it as that is how you can hone your programming skill.\n",
        "\n",
        "Good luck!"
      ],
      "metadata": {
        "id": "GHHIyWdOeJ5K"
      }
    },
    {
      "cell_type": "markdown",
      "source": [
        "# IMPORTANT ASSIGNMENT"
      ],
      "metadata": {
        "id": "S2bi4K7u-4i5"
      }
    },
    {
      "cell_type": "markdown",
      "source": [
        "### QUESTION 1\n",
        "\n",
        "Ask a user to enter a value between `0` and `100` which represent temperature in degree celcius. Convert this value of temperature in degree celcius to  fahrenheit. Assign the converted value to a variable called `result` and print out the value of the `result` variable.\n",
        "\n",
        "**HINT:** The formular for converting temperature value in degree celcius to fehrenheit is:\n",
        "\n",
        "$f$ = $(c \\times \\frac{9}{5}) + 32$\n",
        "\n",
        "* where f represent temperature in fehrenheit\n",
        "* where c represent temperature in celcius\n",
        "\n",
        "For example: if c(user input) = 5, then equivalent value in fehrenheit is:\n",
        "$f$ = $(5 \\times \\frac{9}{5}) + 32 = 47$\n",
        "\n",
        "To get input from a user, research about input function. Here are useful links:\n",
        "* Reading link: [input function on w3school](https://www.w3schools.com/python/ref_func_input.asp)\n",
        "* Video link: [input function on YouTube](https://www.youtube.com/watch?v=47ujebGLMKo)"
      ],
      "metadata": {
        "id": "luYgMzoATrCM"
      }
    },
    {
      "cell_type": "code",
      "source": [
        "celsius = float(75)\n",
        "fahrenheit = (celsius * 9/5) + 32\n",
        "print(f\"{celsius}°C = {fahrenheit}°F\")"
      ],
      "metadata": {
        "id": "lCzx_wv-460s",
        "colab": {
          "base_uri": "https://localhost:8080/"
        },
        "outputId": "62f5f289-683a-4b4c-a21f-472018b33f25"
      },
      "execution_count": null,
      "outputs": [
        {
          "output_type": "stream",
          "name": "stdout",
          "text": [
            "75.0°C = 167.0°F\n"
          ]
        }
      ]
    },
    {
      "cell_type": "markdown",
      "source": [
        "### QUESTION 2\n",
        "\n",
        "Given a list of numbers: `lst=[1,6,1,10,7,100,0]`, print out two new variable (*name them whatever you want*) that reference the list above in:\n",
        "1. Ascending order and  \n",
        "2. descending order respectively.\n",
        "\n",
        "**Hint:** python list has the `sort` method that can be used sort a list. Run this code, `help(list)`, to read more on how to use the `sort` method to order a list in ascending and descening.\n",
        "\n",
        "You can also learn about sort through [w3schools](https://www.w3schools.com/python/ref_list_sort.asp)"
      ],
      "metadata": {
        "id": "VjvM54SsWZWe"
      }
    },
    {
      "cell_type": "code",
      "source": [
        "first_list = [1,6,1,10,7,100,0]\n",
        "print(sorted(first_list))\n",
        "print(sorted(first_list, reverse=True))"
      ],
      "metadata": {
        "id": "rWNrs9ElWXvK",
        "colab": {
          "base_uri": "https://localhost:8080/"
        },
        "outputId": "c732d0df-b939-4b1b-aae4-6260bf0e99e2"
      },
      "execution_count": null,
      "outputs": [
        {
          "output_type": "stream",
          "name": "stdout",
          "text": [
            "[0, 1, 1, 6, 7, 10, 100]\n",
            "[100, 10, 7, 6, 1, 1, 0]\n"
          ]
        }
      ]
    },
    {
      "cell_type": "markdown",
      "source": [
        "### QUESTION 3\n",
        "Given the formular:\n",
        "$V = \\frac{4}{3} * \\pi * r^3$,\n",
        "calculate the volume of a sphere of radius $r=5$ and the constant $\\pi=3.142$?\n",
        "\n",
        "Save the result in a variable called `volume_of_cylinder_r5` and print out the value of the variable"
      ],
      "metadata": {
        "id": "g971zeFUWxcz"
      }
    },
    {
      "cell_type": "code",
      "source": [
        "r = 5\n",
        "pi = 3.142\n",
        "volume_of_cylinder_r5 = (4/3) * pi * r**3\n",
        "print(volume_of_cylinder_r5)"
      ],
      "metadata": {
        "id": "qX4j1E92WuYC",
        "colab": {
          "base_uri": "https://localhost:8080/"
        },
        "outputId": "d2a4ffc4-c434-4852-ccd9-943da7e19350"
      },
      "execution_count": null,
      "outputs": [
        {
          "output_type": "stream",
          "name": "stdout",
          "text": [
            "523.6666666666666\n"
          ]
        }
      ]
    },
    {
      "cell_type": "markdown",
      "source": [
        "### QUESTION 4\n",
        "\n",
        "Suppose the cover price of a book is `$24.95`, but bookstores get a `40%` discount. Shipping costs `$3` for the first copy and `75 cents` for each additional copy. What is the total wholesale cost for `60` copies?"
      ],
      "metadata": {
        "id": "EMsf18HYX1cv"
      }
    },
    {
      "cell_type": "code",
      "source": [
        "cover_price = 24.95\n",
        "discount = 0.40\n",
        "shipping = 3\n",
        "additional_shipping = 0.75\n",
        "copies = 60\n",
        "price_per_copy = cover_price * (1 - discount)\n",
        "total_price = price_per_copy * copies + shipping + (copies - 1) * additional_shipping\n",
        "print(total_price)"
      ],
      "metadata": {
        "id": "aOa8HuP_XaRX",
        "colab": {
          "base_uri": "https://localhost:8080/"
        },
        "outputId": "57988514-e811-4385-d273-276d46963146"
      },
      "execution_count": null,
      "outputs": [
        {
          "output_type": "stream",
          "name": "stdout",
          "text": [
            "945.4499999999999\n"
          ]
        }
      ]
    },
    {
      "cell_type": "markdown",
      "source": [
        "### QUESTION 5\n",
        "\n",
        "Ask a user to enter a word(words) of odd length and assign the user entering to a variable named `entry`. Print the first, middle and last character from the `entry` value.\n",
        "\n",
        "e.g if `entry = \"James\"`, the printed value will be `Jms`\n",
        "\n",
        "**Hing:** use the floor division to get the index of the middle value (`len(entry)//2`). Use what you learnt in class regarding index to get the first and last characters. Finally, concatenate the result together.\n",
        "\n",
        "Check this blog for explanation: [Get middle index of a string](https://discuss.codecademy.com/t/how-can-i-get-the-index-of-the-middle-element/377349)"
      ],
      "metadata": {
        "id": "bOEUiPBpae2r"
      }
    },
    {
      "cell_type": "code",
      "source": [
        "word = 'banabas'\n",
        "fw = word[0]\n",
        "lw = word[-1]\n",
        "mw = word[len(word)//2]\n",
        "print(f\"{fw}{mw}{lw}\")"
      ],
      "metadata": {
        "id": "HWP171zFaNqA",
        "colab": {
          "base_uri": "https://localhost:8080/"
        },
        "outputId": "e4aa4f9a-7a90-452c-b969-4eb6d621d320"
      },
      "execution_count": null,
      "outputs": [
        {
          "output_type": "stream",
          "name": "stdout",
          "text": [
            "bas\n"
          ]
        }
      ]
    },
    {
      "cell_type": "markdown",
      "source": [
        "### QUESTION 6\n",
        "\n",
        "Ask a user to enter a name of odd length and assign the user entering to a variable named `name`.\n",
        "\n",
        "Print a string made of the middle three characters of a given string.\n",
        "\n",
        "e.g if `name = \"JaSonAy\"`, printed result will be `Son`\n",
        "\n",
        "**Hint:** Use the approach above to get the middle index and assign the middle index to a variable. Now slice the string from the index on the left of the middle index upto the right index of the middle index."
      ],
      "metadata": {
        "id": "NhJ5JTYzcFLB"
      }
    },
    {
      "cell_type": "code",
      "source": [
        "name = 'deborah'\n",
        "middle_index = len(name)//2\n",
        "print(name[middle_index-1:middle_index+2])"
      ],
      "metadata": {
        "id": "5YQ5n6zmbpq5",
        "colab": {
          "base_uri": "https://localhost:8080/"
        },
        "outputId": "233d91f6-38ab-4060-e18b-132c1341f13c"
      },
      "execution_count": null,
      "outputs": [
        {
          "output_type": "stream",
          "name": "stdout",
          "text": [
            "bor\n"
          ]
        }
      ]
    },
    {
      "cell_type": "markdown",
      "source": [
        "### QUESTION 7\n",
        "\n",
        "Given two strings, `word1` and `word2`, write a program to return a new string made of `word1` and `word2` first, middle, and last characters.\n",
        "\n",
        "Initialise the two variables as: `word1 = \"America\"` and `word2 = \"Japan\"`\n",
        "\n",
        "Your answer is expected to be 'AJrpan'"
      ],
      "metadata": {
        "id": "3P7_qrYIdXkF"
      }
    },
    {
      "cell_type": "code",
      "source": [
        "word1 = 'Nigeria'\n",
        "word2 = 'Japar'\n",
        "print(word1[0] + word2[0] + word1[len(word1)//2] + word2[len(word2)//2] + word1[-1] + word2[-1])"
      ],
      "metadata": {
        "id": "rdlGKf95c_00",
        "colab": {
          "base_uri": "https://localhost:8080/"
        },
        "outputId": "5277f73a-dae2-4404-e4d7-4dd7f024a3cb"
      },
      "execution_count": null,
      "outputs": [
        {
          "output_type": "stream",
          "name": "stdout",
          "text": [
            "NJepar\n"
          ]
        }
      ]
    },
    {
      "cell_type": "markdown",
      "source": [
        "### QUESTION 8\n",
        "\n",
        "Given a variable and its value as `word = \"PyNaTive\"`. This word contains a combination of lower and upper case letters.\n",
        "\n",
        "Write a program to arrange the characters of a string so that all lowercase letters should come first.\n",
        "\n",
        "**Hint:** you can iterate through the characters using `for` loop and checl if each character is upper case or not. You can create an empty string and concatenate those that lowercase character to the empty string first followed by those that are uppercase."
      ],
      "metadata": {
        "id": "2-78Ro5ni58E"
      }
    },
    {
      "cell_type": "code",
      "source": [
        "word = 'PyNaTive'\n",
        "lowercase = ''\n",
        "uppercase = ''\n",
        "for char in word:\n",
        "    if char.islower():\n",
        "        lowercase += char\n",
        "    else:\n",
        "        uppercase += char\n",
        "result = lowercase + uppercase\n",
        "print(result)"
      ],
      "metadata": {
        "id": "XV_BOE35i-qi",
        "colab": {
          "base_uri": "https://localhost:8080/"
        },
        "outputId": "90a7f8c7-19d1-4016-ef9e-87ac32a84a96"
      },
      "execution_count": null,
      "outputs": [
        {
          "output_type": "stream",
          "name": "stdout",
          "text": [
            "yaivePNT\n"
          ]
        }
      ]
    },
    {
      "cell_type": "markdown",
      "source": [
        "### QUESTION 9\n",
        "\n",
        "Count all letters, digits, and special symbols from a given string:\n",
        "\n",
        "`characters = \"P@#yn26at^&i5ve\"`.\n",
        "\n",
        "**Hint:** remember that every characters in a string is a string object even it is a number. For example, the the first number in the string above is something like this, `'2'` (string) and not something like this, `2` (integer) without the quotation. `str` (string) object has a method that can check if a member of a string is a number (e.g '2'). Call `help` on `str` to find the string method that will help you with this challenge.\n",
        "\n",
        "All you need is to 3 different variables and assign zero to them to keep track of the count of numbers, special characters and alphabet. Example:\n",
        "```{py}\n",
        "number_count = 0\n",
        "alphabet_count = 0\n",
        "symbol_count = 0\n",
        "```\n",
        "Now iterate throgh the string. if it is a number, increment number_count by 1, else if it is symbol, increment symbol_count by 1 else if it is an alphabet, increment alphabet_count by 1.\n",
        "\n",
        "There is a python method to check if a number if a character is a number. To check for symbols, create a list of all special characters and check if that character is there."
      ],
      "metadata": {
        "id": "ZU6IInXneo22"
      }
    },
    {
      "cell_type": "code",
      "source": [
        "characters = \"P@#yn26at^&i5ve\"\n",
        "letter_count = 0\n",
        "number_count = 0\n",
        "symbol_count = 0\n",
        "for char in characters:\n",
        "    if char.isalpha():\n",
        "        letter_count += 1\n",
        "    elif char.isdigit():\n",
        "        number_count += 1\n",
        "    else:\n",
        "        symbol_count += 1\n",
        "print(f\"Letter count: {letter_count}\")\n",
        "print(f\"Number count: {number_count}\")\n",
        "print(f\"Symbol count: {symbol_count}\")"
      ],
      "metadata": {
        "id": "_SugRxMVe3ib",
        "colab": {
          "base_uri": "https://localhost:8080/"
        },
        "outputId": "58fc1856-1b68-477a-f10f-3fb4e794ced7"
      },
      "execution_count": null,
      "outputs": [
        {
          "output_type": "stream",
          "name": "stdout",
          "text": [
            "Letter count: 8\n",
            "Number count: 3\n",
            "Symbol count: 4\n"
          ]
        }
      ]
    },
    {
      "cell_type": "markdown",
      "source": [
        "### QUESTION 10\n",
        "\n",
        "Write a program to check if two strings are balanced. For example, two strings are balanced if all the characters in the first string are present in the second string. The character’s position doesn’t matter.\n",
        "\n",
        "Initialise the two strings as: `string1 = \"Yn\"` and `string2 = \"PYnative\"`"
      ],
      "metadata": {
        "id": "9uoN9MJWgDeu"
      }
    },
    {
      "cell_type": "code",
      "source": [
        "string1 = \"Yn\"\n",
        "string2 = \"PYnative\"\n",
        "for char in string1:\n",
        "    if char not in string2:\n",
        "        print(\"The strings are not balanced\")\n",
        "        break\n",
        "else:\n",
        "    print(\"The strings are balanced\")"
      ],
      "metadata": {
        "id": "6mBEje7Ifhf5",
        "colab": {
          "base_uri": "https://localhost:8080/"
        },
        "outputId": "269bc8a5-886e-428c-ac62-3847c78e77d5"
      },
      "execution_count": null,
      "outputs": [
        {
          "output_type": "stream",
          "name": "stdout",
          "text": [
            "The strings are balanced\n"
          ]
        }
      ]
    },
    {
      "cell_type": "markdown",
      "source": [
        "### QUESTION 11\n",
        "\n",
        "Write a program to find all occurrences of “USA” in a given sentence ignoring the case.\n",
        "\n",
        "Given: `sentence = \"Welcome to USA. usa awesome, isn't it?\"`. The result should be `2`.\n",
        "\n",
        "**Hint:** there is a python method that you can use to get the index of the first character you are searching for. Once you get it, use that index as start to slice string upto the next 3 characters (since USA is 3 letter word)."
      ],
      "metadata": {
        "id": "u7PwJOE5hNWP"
      }
    },
    {
      "cell_type": "code",
      "source": [
        "sentence = \"Welcome to USA. USA awesome, isn't it?\"\n",
        "target = 'USA'\n",
        "print(sentence.count(target))"
      ],
      "metadata": {
        "id": "Al8KEGQAgz0s",
        "colab": {
          "base_uri": "https://localhost:8080/"
        },
        "outputId": "01f9deab-c30a-48c0-b4a5-dec88a9ef1c1"
      },
      "execution_count": null,
      "outputs": [
        {
          "output_type": "stream",
          "name": "stdout",
          "text": [
            "2\n"
          ]
        }
      ]
    },
    {
      "cell_type": "markdown",
      "source": [
        "### QUESTION 12\n",
        "\n",
        "Given a string, write a program to return only the sum and average (in 2 decimal places) of the digits that appear in the string, ignoring all other characters.\n",
        "\n",
        "Given: `str1 = \"PYnative29@#8496\"`, the sum of the digit is `38` and the average is `6.33`.\n",
        "\n",
        "**Hint:**\n",
        "* Initialize a variable called total and assign 0 to it (`total=0`).\n",
        "* Also initialize count variable and assign 0 to it as well (`count=0`)\n",
        "* Iterate throguh the string (since it is a sequence of characters).\n",
        "* For each character, check if it is a number (there is a sting method to check if a string is a number).\n",
        "* If it is a number, sum it with the `total` variable that you initialized in step 1 and also increase the count variable by 1 to show that you are keeping track of the number of integers you have else just bypass and go to the next iteration.\n",
        "* After the iteration, you should have gotten the total sum and the number of integers in the string. To get the average, divide the `total` variable by `count` variable"
      ],
      "metadata": {
        "id": "5vkPWV8KijgZ"
      }
    },
    {
      "cell_type": "code",
      "source": [
        "str1 = \"PYnative29@#8496\"\n",
        "total = 0\n",
        "count = 0\n",
        "for char in str1:\n",
        "    if char.isdigit():\n",
        "        total += int(char)\n",
        "        count += 1\n",
        "average = total / count\n",
        "print(f\"The sum of the digits is {total} and the average is {average:.2f}\")"
      ],
      "metadata": {
        "id": "wlwWXhnukJ3t",
        "colab": {
          "base_uri": "https://localhost:8080/"
        },
        "outputId": "5200411c-9313-4ff3-a6f5-e2dd80f7fafb"
      },
      "execution_count": null,
      "outputs": [
        {
          "output_type": "stream",
          "name": "stdout",
          "text": [
            "The sum of the digits is 38 and the average is 6.33\n"
          ]
        }
      ]
    },
    {
      "cell_type": "markdown",
      "source": [
        "### QUESTION 13\n",
        "\n",
        "Write a program to print all characters and the number of characters within the string in **question 12**.\n",
        "\n",
        "**Hint:** Just like the precious question, create a count variable and assign 0 to it (`count=0`). But this time around, the variable will be used to track the count of characters. You will iterate to check if an element of a string in each iteration is a character (any of letter a-z or A-Z). If it is, increment that count variable by 1 and also print the character.v"
      ],
      "metadata": {
        "id": "_Kw83u2Kj30s"
      }
    },
    {
      "cell_type": "code",
      "source": [
        "str1 = \"PYnative29@#8496\"\n",
        "count = 0\n",
        "for char in str1:\n",
        "    if char.isalpha():\n",
        "        count += 1\n",
        "        print(f\"{char}: {count}\")"
      ],
      "metadata": {
        "id": "XqZBV9pzl2fw",
        "colab": {
          "base_uri": "https://localhost:8080/"
        },
        "outputId": "373694cd-923b-4b9b-ae75-fd3e91a99145"
      },
      "execution_count": null,
      "outputs": [
        {
          "output_type": "stream",
          "name": "stdout",
          "text": [
            "P: 1\n",
            "Y: 2\n",
            "n: 3\n",
            "a: 4\n",
            "t: 5\n",
            "i: 6\n",
            "v: 7\n",
            "e: 8\n"
          ]
        }
      ]
    },
    {
      "cell_type": "markdown",
      "source": [
        "### QUESTION 14\n",
        "\n",
        "Reverse and print the output of the string you got in **question 13**.\n"
      ],
      "metadata": {
        "id": "O0nhnHhOj5z-"
      }
    },
    {
      "cell_type": "code",
      "source": [
        "reversed_str1 = str1[::-1]\n",
        "print(reversed_str1)"
      ],
      "metadata": {
        "id": "40Lhl9rGqfg_",
        "colab": {
          "base_uri": "https://localhost:8080/"
        },
        "outputId": "0de175f9-4970-49a3-d64d-44874ec1e79d"
      },
      "execution_count": null,
      "outputs": [
        {
          "output_type": "stream",
          "name": "stdout",
          "text": [
            "6948#@92evitanYP\n"
          ]
        }
      ]
    },
    {
      "cell_type": "markdown",
      "source": [
        "### QUESTION 15\n",
        "\n",
        "Write a program to print the index of the first character (`B`) of the last substring `“Beauty”` in the sentence:\n",
        "\n",
        "`str1 = \"Beauty is a data scientist who knows Python. Beauty works at google.\"`\n",
        "\n",
        "**Hint:** there is a string method to get the index of the first occurence of a string."
      ],
      "metadata": {
        "id": "RQisITJCj7qI"
      }
    },
    {
      "cell_type": "code",
      "source": [
        "str1 = \"Beauty is a data scientist who knows Python. Beauty works at google.\"\n",
        "index = str1.find('Beauty')\n",
        "print(index)"
      ],
      "metadata": {
        "colab": {
          "base_uri": "https://localhost:8080/"
        },
        "id": "9dklHhaccNNd",
        "outputId": "a36c5217-1b9b-4971-ef0a-b56b8983e722"
      },
      "execution_count": null,
      "outputs": [
        {
          "output_type": "stream",
          "name": "stdout",
          "text": [
            "0\n"
          ]
        }
      ]
    },
    {
      "cell_type": "markdown",
      "source": [],
      "metadata": {
        "id": "xNZWpjepadB0"
      }
    },
    {
      "cell_type": "markdown",
      "source": [
        "### QUESTION 16\n",
        "\n",
        "Write a program to split a given string on hyphens and display each substring. Given: `str1 = Beauty-is-a-data-scientist.`\n",
        "\n",
        "**Hint:** string has a split method. Call help on `str`."
      ],
      "metadata": {
        "id": "vSSW4Bpjj9So"
      }
    },
    {
      "cell_type": "code",
      "source": [
        "\n",
        "str1 = \"Beauty-is-a-data-scientist\"\n",
        "split_str1 = str1.split('-')\n",
        "print(split_str1)"
      ],
      "metadata": {
        "id": "c76N_JwAhrnP",
        "colab": {
          "base_uri": "https://localhost:8080/"
        },
        "outputId": "88da69cc-f342-4f1d-dda5-4131eb0b7ef3"
      },
      "execution_count": null,
      "outputs": [
        {
          "output_type": "stream",
          "name": "stdout",
          "text": [
            "['Beauty', 'is', 'a', 'data', 'scientist']\n"
          ]
        }
      ]
    },
    {
      "cell_type": "markdown",
      "source": [
        "# BONUS QUESTION\n",
        "### FINDING THE MEDIAN INDEX OF A SEQUECE WITH EVEN SIZE IN PYTHON\n",
        "\n",
        "One thing i didn't mention was that the median index is different from the median value so for median index of a list with odd number as its size, we will have to choose the left or right index of the two middle index\n",
        "\n",
        "Check the code below for example"
      ],
      "metadata": {
        "id": "7j6P0HIkXP1o"
      }
    },
    {
      "cell_type": "code",
      "source": [
        "numbers = [1,2,39,4,166,7,8,93,50,12,11,23,45,67,78]\n",
        "sorted (numbers)\n",
        "n = len(numbers)\n",
        "print(n)\n",
        "numbers2= sum(numbers)\n",
        "numbers3 = (numbers2 + 1)\n",
        "# Median Index formular = [(n+1)/2]th\n",
        "median_index = (n+1)/2\n",
        "print (median_index)\n",
        "#Median Index is the eight value\n",
        "Numbers3 = sorted (numbers)\n",
        "Numbers3 [7]\n",
        "\n",
        "\n"
      ],
      "metadata": {
        "id": "bo_OVVfMiDeB",
        "colab": {
          "base_uri": "https://localhost:8080/"
        },
        "outputId": "14897515-8205-44f7-dc6c-d987cb067593"
      },
      "execution_count": null,
      "outputs": [
        {
          "output_type": "stream",
          "name": "stdout",
          "text": [
            "15\n",
            "8.0\n"
          ]
        },
        {
          "output_type": "execute_result",
          "data": {
            "text/plain": [
              "23"
            ]
          },
          "metadata": {},
          "execution_count": 3
        }
      ]
    },
    {
      "cell_type": "markdown",
      "source": [
        "Since we have two middle values becaue the length of the string is 2, we can say we don't have middle index unless we want to use the value of `mid_index` above which is 2 or we use a value below it which 1 (i.e 2-1 which is equal to 1 for the second position) as the index value."
      ],
      "metadata": {
        "id": "TsbYn3D7aYCL"
      }
    },
    {
      "cell_type": "markdown",
      "source": [
        "# READING ASSIGNMENT - PYTHON FUNCTION\n",
        "\n",
        "Read about [**python function here**](https://www.w3schools.com/python/python_functions.asp)."
      ],
      "metadata": {
        "id": "q13bqIcB-CVP"
      }
    }
  ]
}