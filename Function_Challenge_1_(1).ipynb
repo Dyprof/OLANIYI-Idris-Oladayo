{
  "nbformat": 4,
  "nbformat_minor": 0,
  "metadata": {
    "colab": {
      "provenance": [],
      "include_colab_link": true
    },
    "kernelspec": {
      "name": "python3",
      "display_name": "Python 3"
    },
    "language_info": {
      "name": "python"
    }
  },
  "cells": [
    {
      "cell_type": "markdown",
      "metadata": {
        "id": "view-in-github",
        "colab_type": "text"
      },
      "source": [
        "<a href=\"https://colab.research.google.com/github/Dyprof/OLANIYI-Idris-Oladayo/blob/main/Function_Challenge_1_(1).ipynb\" target=\"_parent\"><img src=\"https://colab.research.google.com/assets/colab-badge.svg\" alt=\"Open In Colab\"/></a>"
      ]
    },
    {
      "cell_type": "markdown",
      "source": [
        "### QUESTION 1\n",
        "\n",
        "Write a python function named `is_palindrome` that takes an argument (a string) checks if the input string is a palindrome. The function should return `True` or `False`\n",
        "\n",
        "`palindrome`: a word is `palindrom` if it reads the same backward. E.g `madam`\n",
        "\n",
        "HINT: use the python `input` function to get an input."
      ],
      "metadata": {
        "id": "ucE_PVEmzazs"
      }
    },
    {
      "cell_type": "code",
      "source": [
        "# SOLUTION\n",
        "def is_palindrome(word):\n",
        "    word = word.lower()\n",
        "    return word == word[::-1]\n",
        "    print(word)\n",
        "word = 'racecar'\n",
        "if is_palindrome(word):\n",
        "    print(f\"{word} is a palindrome.\")\n",
        "else:\n",
        "    print(f\"{word} is not a palindrome.\")"
      ],
      "metadata": {
        "id": "MqpHqEFS3xtc",
        "colab": {
          "base_uri": "https://localhost:8080/"
        },
        "outputId": "58e8cf1f-c035-4b9f-e8af-460539c03da7"
      },
      "execution_count": 57,
      "outputs": [
        {
          "output_type": "stream",
          "name": "stdout",
          "text": [
            "racecar is a palindrome.\n"
          ]
        }
      ]
    },
    {
      "cell_type": "markdown",
      "source": [
        "### QUESTION 2\n",
        "\n",
        "If a valid email is known to have a mix of characters and numbers and then ends with `@edibrige.ng`, e.g `nnebaba123@edubridge.ng`.\n",
        "<br/>\n",
        "Write a functon named `is_valid_email` that accepts an email as an input argument and then check if the email is valid based on the condition above.\n",
        "\n"
      ],
      "metadata": {
        "id": "E6nd8ZIczixT"
      }
    },
    {
      "cell_type": "code",
      "source": [
        "# SOLUTION\n",
        "def is_valid_email(email):\n",
        "    if email.endswith(\"@edubridge.ng\"):\n",
        "        local_part = email.split(\"@\")[0]\n",
        "        has_letter = any(char.isalpha() for char in local_part)\n",
        "        has_digit = any(char.isdigit() for char in local_part)\n",
        "        return has_letter and has_digit\n",
        "    return False\n",
        "email = 'ola.dayo.0049@edubridge.ng'\n",
        "if is_valid_email(email):\n",
        "    print(\"Valid email\")\n",
        "else:\n",
        "    print(\"Invalid email\")"
      ],
      "metadata": {
        "id": "F0jTBpfs2YzM",
        "colab": {
          "base_uri": "https://localhost:8080/"
        },
        "outputId": "43ecbad5-3673-456e-c700-aaf62883a0bb"
      },
      "execution_count": 56,
      "outputs": [
        {
          "output_type": "stream",
          "name": "stdout",
          "text": [
            "Valid email\n"
          ]
        }
      ]
    },
    {
      "cell_type": "markdown",
      "source": [
        "### QUESTION 3\n",
        "\n",
        "Given a list of numbers that are perfect squares between 1 and 40 `[1, 2, 4, 16, 25, 36]`.\n",
        "<br>\n",
        "Write a python function that accepts an input argument (any number between 1 and 40) and then checks if the number is a perfect square."
      ],
      "metadata": {
        "id": "EgExjLVPzi-Q"
      }
    },
    {
      "cell_type": "code",
      "source": [
        "# SOLUTION\n",
        "def is_perfect_square(n):\n",
        "    perfect_squares = [1, 2, 4, 16, 25, 36, 40]\n",
        "    if n in perfect_squares:\n",
        "        return True\n",
        "    else:\n",
        "       return False\n",
        "number = 20\n",
        "if 1 <= number <= 40:\n",
        "    if is_perfect_square(number):\n",
        "        print(f\"{number} is a perfect square.\")\n",
        "    else:\n",
        "        print(f\"{number} is not a perfect square.\")\n",
        "else:\n",
        "    print(\"Number out of range.\")\n"
      ],
      "metadata": {
        "id": "v8dGOkR56rkG",
        "colab": {
          "base_uri": "https://localhost:8080/"
        },
        "outputId": "d2e6e16f-6faa-4269-d6e8-a799d958eed3"
      },
      "execution_count": 54,
      "outputs": [
        {
          "output_type": "stream",
          "name": "stdout",
          "text": [
            "20 is not a perfect square.\n"
          ]
        }
      ]
    },
    {
      "cell_type": "markdown",
      "source": [
        "### QUESTION 4\n",
        "\n",
        "Given a string, check if an input string is a substring of the given string?\n",
        "<br/><br/>\n",
        "E.g `word = authenticate`\n",
        "<br>Now if a user input the word `the`, We can say that the word `the` is a substring of the word `authenticate` because it's contained in it.\n",
        "\n"
      ],
      "metadata": {
        "id": "WFU5xhYezjGh"
      }
    },
    {
      "cell_type": "code",
      "source": [
        "# SOLUTION\n",
        "word = \"authenticate\"\n",
        "user_input = \"the\"\n",
        "if user_input in word:\n",
        "    print(f\"{user_input} is a substring of {word}.\")\n",
        "else:\n",
        "    print(f\"{user_input} is not a substring of {word}.\")"
      ],
      "metadata": {
        "id": "p2Ajj7I66u8t",
        "colab": {
          "base_uri": "https://localhost:8080/"
        },
        "outputId": "56e3b756-c337-4759-a228-2f39fe470001"
      },
      "execution_count": 51,
      "outputs": [
        {
          "output_type": "stream",
          "name": "stdout",
          "text": [
            "the is a substring of authenticate.\n"
          ]
        }
      ]
    },
    {
      "cell_type": "markdown",
      "source": [
        "### QUESTION 5\n",
        "\n",
        "Write a Python program that takes in a number input. If the number is a multiples of three print `\"Fizz\"` instead of the number and for multiples of five print `\"Buzz\"`. For numbers that are multiples of three and five, print `\"FizzBuzz\"`.\n",
        "\n",
        "**HINT**: *requires type casting for your input.*"
      ],
      "metadata": {
        "id": "zRe7O814zjU9"
      }
    },
    {
      "cell_type": "code",
      "source": [
        "# SOLUTION\n",
        "number = (15)\n",
        "if number % 3 == 0 and number % 5 == 0:\n",
        "    print(\"FizzBuzz\")\n",
        "elif number % 3 == 0:\n",
        "    print(\"Fizz\")\n",
        "elif number % 5 == 0:\n",
        "    print(\"Buzz\")\n",
        "\n"
      ],
      "metadata": {
        "id": "lvztCP-Z6xqG",
        "colab": {
          "base_uri": "https://localhost:8080/"
        },
        "outputId": "167739a2-380b-419a-ef2f-110ca6f63eb6"
      },
      "execution_count": 50,
      "outputs": [
        {
          "output_type": "stream",
          "name": "stdout",
          "text": [
            "FizzBuzz\n"
          ]
        }
      ]
    },
    {
      "cell_type": "markdown",
      "source": [
        "### QUESTION 6\n",
        "\n",
        "Given a year input, Is the year a leap year?\n",
        "\n",
        "Reference: in the Gregorian calendar, each leap year has 366 days instead of 365, by extending February to 29 days rather than the common 28. This extra leap day occurs in each year that is an integer multiple of `4` (except for years evenly divisible by `100`, but not by `400`). A leap year of 366 days has 52 weeks and two days, hence the year following a leap year will start later by two days of the week."
      ],
      "metadata": {
        "id": "bUWNERA_zjgI"
      }
    },
    {
      "cell_type": "code",
      "source": [
        "# SOLUTION\n",
        "year = (2020)\n",
        "if (year % 4 == 0 and year % 100 != 0) or (year % 400 == 0):\n",
        "    print(f\"{year} is a leap year.\")\n",
        "else:\n",
        "    print(f\"{year} is not a leap year.\")\n"
      ],
      "metadata": {
        "id": "HYVZhb9Q7A6E",
        "colab": {
          "base_uri": "https://localhost:8080/"
        },
        "outputId": "b319d2ed-00d1-4de3-a31f-d6b3045b94a8"
      },
      "execution_count": 47,
      "outputs": [
        {
          "output_type": "stream",
          "name": "stdout",
          "text": [
            "2020 is a leap year.\n"
          ]
        }
      ]
    },
    {
      "cell_type": "markdown",
      "source": [
        "### QUESTION 7\n",
        "\n",
        "Write a program that prints:\n",
        "<br/>\n",
        "`\"Fail\"` if an input score is less than 45  or<br/> `\"Pass\"` if the score is between (45 and 50), or <br/>`\"Good\"` if it is between (51 and 60)\n",
        "<br/>`\"Very Good\"` if it is between (61 and 70) else <br/>`\"Excellent\"` if the number greater than 70."
      ],
      "metadata": {
        "id": "03oqByaSzj1b"
      }
    },
    {
      "cell_type": "code",
      "source": [
        "# SOLUTION\n",
        "score = 67\n",
        "if score < 45:\n",
        "    print(\"Fail\")\n",
        "elif 45 <= score <= 50:\n",
        "    print(\"Pass\")\n",
        "elif 51 <= score <= 60:\n",
        "    print(\"Good\")\n",
        "elif 61 <= score <= 70:\n",
        "    print(\"Very Good\")\n",
        "else:\n",
        "    print(\"Excellent\")"
      ],
      "metadata": {
        "id": "VUmcOZXQ7Dj_",
        "colab": {
          "base_uri": "https://localhost:8080/"
        },
        "outputId": "196d08b3-ea1f-4f97-d3c8-507577a13a0c"
      },
      "execution_count": 46,
      "outputs": [
        {
          "output_type": "stream",
          "name": "stdout",
          "text": [
            "Very Good\n"
          ]
        }
      ]
    },
    {
      "cell_type": "markdown",
      "source": [
        "### QUESTION 8\n",
        "\n",
        "Given two different list below, Convert them to a dictionary:<br/>\n",
        "`keys = ['Ten', 'Twenty', 'Thirty']`\n",
        "`values = [10, 20, 30]`\n",
        "<br/> <br/>Expected output is: `{'Ten': 10, 'Twenty': 20, 'Thirty': 30}`\n",
        "<br/><br/>**HINT**: use the python `zip` function and then cast the result of the function to accomplish your desired output. You can check `help(zip)`"
      ],
      "metadata": {
        "id": "9W92m74azj-C"
      }
    },
    {
      "cell_type": "code",
      "source": [
        "# SOLUTION\n",
        "keys = ['Ten', 'Twenty', 'Thirty']\n",
        "values = [10, 20, 30]\n",
        "dictionary = dict(zip(keys, values))\n",
        "print(dictionary)"
      ],
      "metadata": {
        "id": "mSGZS6Jk7FwE",
        "colab": {
          "base_uri": "https://localhost:8080/"
        },
        "outputId": "f2aae684-b204-45e3-ae2c-2aeafca6c54d"
      },
      "execution_count": 43,
      "outputs": [
        {
          "output_type": "stream",
          "name": "stdout",
          "text": [
            "{'Ten': 10, 'Twenty': 20, 'Thirty': 30}\n"
          ]
        }
      ]
    },
    {
      "cell_type": "markdown",
      "source": [
        "### QUESTION 9\n",
        "\n",
        "Merge the two Python dictionaries below\n",
        "<br/>`dict1 = {'Ten': 10, 'Twenty': 20, 'Thirty': 30}`<br/>\n",
        "`dict2 = {'Thirty': 30, 'Fourty': 40, 'Fifty': 50}`\n",
        "<br/>Expected output is: `{'Ten': 10, 'Twenty': 20, 'Thirty': 30, 'Fourty': 40, 'Fifty': 50}`\n",
        "\n",
        "<br/><br/>**HINT**: you can check `help(dict)` to identify dict method that will help you achieve solution to the problem."
      ],
      "metadata": {
        "id": "rD-5381wzkFz"
      }
    },
    {
      "cell_type": "code",
      "source": [
        "# SOLUTION\n",
        "dict1 = {'Ten': 10, 'Twenty': 20, 'Thirty': 30}\n",
        "dict2 = {'Thirty': 30, 'Fourty': 40, 'Fifty': 50}\n",
        "merged_dict = {**dict1, **dict2}\n",
        "print(merged_dict)"
      ],
      "metadata": {
        "id": "P7bsV-C37IJr",
        "colab": {
          "base_uri": "https://localhost:8080/"
        },
        "outputId": "58c63177-d972-461c-db7b-4fc7d4f6ac29"
      },
      "execution_count": 42,
      "outputs": [
        {
          "output_type": "stream",
          "name": "stdout",
          "text": [
            "{'Ten': 10, 'Twenty': 20, 'Thirty': 30, 'Fourty': 40, 'Fifty': 50}\n"
          ]
        }
      ]
    },
    {
      "cell_type": "markdown",
      "source": [
        "### QUESTION 10\n",
        "Print out all the keys from the given dictionary `sample_dict = {'a': 100, 'b': 200, 'c': 300}` as a list.\n",
        "<br>\n",
        "Expected Output: `['a', 'b', 'c']`"
      ],
      "metadata": {
        "id": "tujWJvlxzkNQ"
      }
    },
    {
      "cell_type": "code",
      "source": [
        "# SOLUTION\n",
        "sample_dict = {'a': 100, 'b': 200, 'c': 300}\n",
        "keys_list = list(sample_dict.keys())\n",
        "print(keys_list)"
      ],
      "metadata": {
        "id": "GT5fPhTs7KTC",
        "colab": {
          "base_uri": "https://localhost:8080/"
        },
        "outputId": "17f1651b-5cc2-4e02-9e68-ff2ba776b5d3"
      },
      "execution_count": 41,
      "outputs": [
        {
          "output_type": "stream",
          "name": "stdout",
          "text": [
            "['a', 'b', 'c']\n"
          ]
        }
      ]
    },
    {
      "cell_type": "markdown",
      "source": [
        "### QUESTION 11\n",
        "\n",
        "Print out all the values from a givsen dictionary\n",
        "`sample_dict = {'a': 100, 'b': 200, 'c': 300}` as a list.\n",
        "<br>\n",
        "Expected Output: `[100, 200, 300]`"
      ],
      "metadata": {
        "id": "zu7Lb3GfQZwC"
      }
    },
    {
      "cell_type": "code",
      "execution_count": 40,
      "metadata": {
        "id": "FOh0lrewzV3L",
        "colab": {
          "base_uri": "https://localhost:8080/"
        },
        "outputId": "d4b2d4c4-5265-4b75-de8e-b925e5431d73"
      },
      "outputs": [
        {
          "output_type": "stream",
          "name": "stdout",
          "text": [
            "[100, 200, 300]\n"
          ]
        }
      ],
      "source": [
        "# SOLUTION\n",
        "sample_dict = {'a': 100, 'b': 200, 'c': 300}\n",
        "values_list = list(sample_dict.values())\n",
        "print(values_list)"
      ]
    },
    {
      "cell_type": "markdown",
      "source": [
        "### QUESTION 12\n",
        "\n",
        "Given: `sample_dict = {'a': 100, 'b': 200, 'c': 300}`. Ask a user for an input. If the input is a value present in the `sample_dict` dictionary, print the number with some text.\n",
        "E.g, if input is `200`,<br>\n",
        "Expected output: `200 is a value present in the dicitonary.`"
      ],
      "metadata": {
        "id": "fm_7DyH4Q6Ab"
      }
    },
    {
      "cell_type": "code",
      "source": [
        "# SOLUTION\n",
        "sample_dict = {'a': 100, 'b': 200, 'c': 300}\n",
        "user_input = (200)\n",
        "if user_input in sample_dict.values():\n",
        "    print(f\"{user_input} is a value present in the dictionary.\")"
      ],
      "metadata": {
        "id": "FWFvwNLWQ5N8",
        "colab": {
          "base_uri": "https://localhost:8080/"
        },
        "outputId": "f89b2de8-b206-4e73-92b4-96660429d0de"
      },
      "execution_count": 39,
      "outputs": [
        {
          "output_type": "stream",
          "name": "stdout",
          "text": [
            "200 is a value present in the dictionary.\n"
          ]
        }
      ]
    },
    {
      "cell_type": "markdown",
      "source": [
        "### QUESTION 13\n",
        "\n",
        "Get the key of a minimum value from the following dictionary\n",
        "`sample_dict = {'Physics': 82, 'Math': 65 'history': 75}`\n",
        "\n",
        "<br>Expected Output: `Math`"
      ],
      "metadata": {
        "id": "beLkIUOhR29y"
      }
    },
    {
      "cell_type": "code",
      "source": [
        "# SOLUTION\n",
        "sample_dict = {'Physics': 82, 'Math': 65, 'history': 75}\n",
        "min_value = min(sample_dict.values())\n",
        "min_key = next(key for key, value in sample_dict.items() if value == min_value)\n",
        "print(min_key)"
      ],
      "metadata": {
        "colab": {
          "base_uri": "https://localhost:8080/"
        },
        "id": "5QgIgp-rOemU",
        "outputId": "e1884150-ab8a-46cf-90ec-247c45eb6ba9"
      },
      "execution_count": 34,
      "outputs": [
        {
          "output_type": "stream",
          "name": "stdout",
          "text": [
            "Math\n"
          ]
        }
      ]
    },
    {
      "cell_type": "markdown",
      "source": [
        "### QUESTION 14\n",
        "\n",
        "Write a program to rename a key city to a location in the following dictionary.\n",
        "<BR>\n",
        "Given: `sample_dict = {\"name\": \"Kelly\", \"age\":25, \"salary\": 8000, \"city\": \"New york\"}`\n",
        "\n",
        "<br>Expected Output: `{'name': 'Kelly', 'age': 25, 'salary': 8000, 'location': 'New york'}`"
      ],
      "metadata": {
        "id": "pztPTTjRS-Xb"
      }
    },
    {
      "cell_type": "code",
      "source": [
        "sample_dict = {\"name\": \"Kelly\", \"age\": 25, \"salary\": 8000, \"city\": \"New york\"}\n",
        "sample_dict[\"location\"] = sample_dict.pop(\"city\")\n",
        "print(sample_dict)"
      ],
      "metadata": {
        "colab": {
          "base_uri": "https://localhost:8080/"
        },
        "id": "eOSswFS-M7kb",
        "outputId": "3d34a11d-2756-461b-d90f-cfbff0a03a3c"
      },
      "execution_count": 32,
      "outputs": [
        {
          "output_type": "stream",
          "name": "stdout",
          "text": [
            "{'name': 'Kelly', 'age': 25, 'salary': 8000, 'location': 'New york'}\n"
          ]
        }
      ]
    },
    {
      "cell_type": "markdown",
      "source": [
        "### QUESTION 15\n",
        "\n",
        "Write a program to unpack the following tuple into four variables and display each variable.\n",
        "<br>\n",
        "Given: `tuple1 = (10, 20, 30, 40)`\n",
        "<br/>Expected output:\n",
        ">> print(a) # should print 10 <br/>\n",
        ">> print(b) # should print 20 <br/>\n",
        ">> print(c) # should print 30 <br/>\n",
        ">> print(d) # should print 40 <br/>\n",
        "\n"
      ],
      "metadata": {
        "id": "Tzuz63jvTHK6"
      }
    },
    {
      "cell_type": "code",
      "source": [
        "# SOLUTION\n",
        "tuple1 = (10, 20, 30, 40)\n",
        "a, b, c, d = tuple1\n",
        "print(a)\n",
        "print(b)\n",
        "print(c)\n",
        "print(d)"
      ],
      "metadata": {
        "id": "XBdgWQQbU_nG",
        "colab": {
          "base_uri": "https://localhost:8080/"
        },
        "outputId": "9261c07e-6db0-48b8-c3ef-70cb0dd1f020"
      },
      "execution_count": 31,
      "outputs": [
        {
          "output_type": "stream",
          "name": "stdout",
          "text": [
            "10\n",
            "20\n",
            "30\n",
            "40\n"
          ]
        }
      ]
    },
    {
      "cell_type": "markdown",
      "source": [
        "### QUESTION 16\n",
        "\n",
        "Swap two tuples in Python\n",
        "Given: <br>`tuple1 = (11, 22)`, <br>`tuple2 = (99, 88)`\n",
        "\n",
        "Expected Output: <br>`tuple1: (99, 88)`\n",
        "<br>`tuple2: (11, 22)`\n"
      ],
      "metadata": {
        "id": "fTBkgL-URABj"
      }
    },
    {
      "cell_type": "code",
      "source": [
        "# SOLUTION\n",
        "tuple1 = (11, 22)\n",
        "tuple2 = (99, 88)\n",
        "tuple1, tuple2 = tuple2, tuple1\n",
        "print(\"tuple1:\", tuple1)\n",
        "print(\"tuple2:\", tuple2)"
      ],
      "metadata": {
        "id": "APP_aVq8Ve9j",
        "colab": {
          "base_uri": "https://localhost:8080/"
        },
        "outputId": "ffef16c0-d789-4f95-c7b1-2fcea55b74fb"
      },
      "execution_count": 30,
      "outputs": [
        {
          "output_type": "stream",
          "name": "stdout",
          "text": [
            "tuple1: (99, 88)\n",
            "tuple2: (11, 22)\n"
          ]
        }
      ]
    },
    {
      "cell_type": "markdown",
      "source": [
        "### QUESTION 17\n",
        "\n",
        "Sort a tuple of tuples by 2nd item\n",
        "<BR>\n",
        "Given:tuple1 = `(('a', 23),('b', 37),('c', 11), ('d',29))`\n",
        "\n",
        "<BR>Expected output: `(('c', 11), ('a', 23), ('d', 29), ('b', 37))`"
      ],
      "metadata": {
        "id": "sqUCmE-mWQi9"
      }
    },
    {
      "cell_type": "code",
      "source": [
        "# SOLUTION\n",
        "tuple1 = (('a', 23), ('b', 37), ('c', 11), ('d', 29))\n",
        "sorted_tuple = tuple(sorted(tuple1, key=lambda x: x[1]))\n",
        "print(sorted_tuple)"
      ],
      "metadata": {
        "id": "ICYx637TWPWk",
        "colab": {
          "base_uri": "https://localhost:8080/"
        },
        "outputId": "4196dea3-17ef-4353-cfad-2a68e024c231"
      },
      "execution_count": 29,
      "outputs": [
        {
          "output_type": "stream",
          "name": "stdout",
          "text": [
            "(('c', 11), ('a', 23), ('d', 29), ('b', 37))\n"
          ]
        }
      ]
    },
    {
      "cell_type": "markdown",
      "source": [
        "### QUESTION 18\n",
        "\n",
        "print a new set of identical items from two sets\n",
        "Given:<BR>\n",
        "`set1 = {10, 20, 30, 40, 50}`<BR>\n",
        "`set2 = {30, 40, 50, 60, 70}`\n",
        "<BR>Expected output: `{40, 50, 30}`\n",
        "\n",
        "**HINT**: *set method will do the workings for you.*"
      ],
      "metadata": {
        "id": "yOpkUhE8XIAm"
      }
    },
    {
      "cell_type": "code",
      "source": [
        "set1 = {10, 20, 30, 40, 50}\n",
        "set2 = {30, 40, 50, 60, 70}\n",
        "identical_items = set1.intersection(set2)\n",
        "print(identical_items)"
      ],
      "metadata": {
        "id": "71K0QmRMXHGy",
        "colab": {
          "base_uri": "https://localhost:8080/"
        },
        "outputId": "a41f1de8-e263-4321-c3fb-0d5871f103be"
      },
      "execution_count": 26,
      "outputs": [
        {
          "output_type": "stream",
          "name": "stdout",
          "text": [
            "{40, 50, 30}\n"
          ]
        }
      ]
    },
    {
      "cell_type": "markdown",
      "source": [
        "**COMMENT:** Great"
      ],
      "metadata": {
        "id": "ecK1rgj_QRkY"
      }
    },
    {
      "cell_type": "markdown",
      "source": [
        "### QUESTION 19\n",
        "\n",
        "Given two Python sets, write a Python program to update the first set with items that exist only in the first set and not in the second set.\n",
        "\n",
        "<BR>Given:\n",
        "<BR>\n",
        "`set1 = {10, 20, 30}`<BR>\n",
        "`set2 = {20, 40, 50}`<BR>\n",
        "Expected output: `set1 {10, 30}`\n",
        "\n",
        "**HINT**: *set method will do the workings for you.*"
      ],
      "metadata": {
        "id": "lS3Is27FY0Cw"
      }
    },
    {
      "cell_type": "code",
      "source": [
        "set1 = {10, 20, 30}\n",
        "set2 = {20, 40, 50}\n",
        "set1.difference_update(set2)\n",
        "print(set1)"
      ],
      "metadata": {
        "id": "tl4MVvSlYy76",
        "colab": {
          "base_uri": "https://localhost:8080/"
        },
        "outputId": "b29c0fa2-969f-4792-e2b5-5f7a59e375f9"
      },
      "execution_count": 25,
      "outputs": [
        {
          "output_type": "stream",
          "name": "stdout",
          "text": [
            "{10, 30}\n"
          ]
        }
      ]
    },
    {
      "cell_type": "markdown",
      "source": [
        "**COMMENT:** Great"
      ],
      "metadata": {
        "id": "Csw0EX4FQXbV"
      }
    },
    {
      "cell_type": "markdown",
      "source": [
        "### QUESTION 20\n",
        "\n",
        "Check if two sets have any elements in common. If yes, display the common elements\n",
        "\n",
        "Given:\n",
        "\n",
        "`set1 = {10, 20, 30, 40, 50}`\n",
        "\n",
        "`set2 = {60, 70, 80, 90, 10}`\n",
        "\n",
        "Expected output: `{10}`\n",
        "\n",
        "**HINT**: *set method and conditional statement will do the workings for you.*"
      ],
      "metadata": {
        "id": "jTdw5ITfbCrr"
      }
    },
    {
      "cell_type": "code",
      "source": [
        "# SOLUTION\n",
        "set1 = {10, 20, 30, 40, 50}\n",
        "set2 = {60, 70, 80, 90, 10}\n",
        "common_elements = set1.intersection(set2)\n",
        "if common_elements:\n",
        "    print(\"Common elements:\", common_elements)\n",
        "else:\n",
        "    print(\"No common elements found.\")"
      ],
      "metadata": {
        "id": "XX-AE9QibBfn",
        "colab": {
          "base_uri": "https://localhost:8080/"
        },
        "outputId": "0a1ef120-5303-4822-9860-abc71525471c"
      },
      "execution_count": 24,
      "outputs": [
        {
          "output_type": "stream",
          "name": "stdout",
          "text": [
            "Common elements: {10}\n"
          ]
        }
      ]
    }
  ]
}